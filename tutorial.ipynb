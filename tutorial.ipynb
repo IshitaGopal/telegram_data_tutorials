{
 "cells": [
  {
   "cell_type": "markdown",
   "metadata": {},
   "source": [
    "# Tutorial: Collecting messages from Telegram"
   ]
  },
  {
   "cell_type": "markdown",
   "metadata": {},
   "source": [
    "## Set up "
   ]
  },
  {
   "cell_type": "markdown",
   "metadata": {},
   "source": [
    "[Telegram](https://telegram.org/) is a popular messaging application. This tutorial shows how to collect messages from any public channel/group chat on the platform using the [Telethon library](https://docs.telethon.dev/en/stable/) in Python. But first, you will need a Telegram account linked to your mobile number. \n",
    "\n",
    "### Start by:\n",
    "1. Downloading the app\n",
    "2. [Register](https://my.telegram.org/auth) your application and get your API id and API hash. \n",
    "3. Store the credentials (id/hash) safely. You can store them in a .env file:\n",
    "\n",
    "```\n",
    "\n",
    "TELEGRAM_API_ID = \"987298\"\n",
    "TELEGRAM_API_HASH = \"o898dnjdu23801kmcloewij\"\n",
    "PHONE_NUM = \"+19810023456\"\n",
    "\n",
    "```\n",
    "4. Install the Telethon library.  This is an asyncio Python 3 library used to interact with Telegram's API. You can find some examples of using asyncio [here](https://docs.telethon.dev/en/stable/concepts/asyncio.html).\n",
    "```\n",
    "python3 -m pip install --upgrade pip\n",
    "python3 -m pip install --upgrade telethon\n",
    "```\n",
    "\n",
    "5. You will have to update both IPython to 7.0+ and ipykernel to version 5.0+ for async to be available. (More details about using async in notebooks can be found [here](https://blog.jupyter.org/ipython-7-0-async-repl-a35ce050f7f7)). Note that Asyncio code can create some issues when using it in Jupyter Notebooks. There are some differences in the syntax that is written jupyter v/s a .py script. Also, according to Telethon's documentation: \"When using Telethon with such interpreters, you are also more likely to get “sqlite3.OperationalError: database is locked” with them. If they cause too much trouble, just write your code in a .py file and run that, or use the normal python interpreter.\"\n",
    "\n",
    "```\n",
    "pip install IPython ipykernel --update\n",
    "\n",
    "```\n",
    "\n",
    "6. Install the asyncio library. This library allows you to do concurrent asynchronous programming in Python.\n",
    "\n",
    "```\n",
    "python3 -m pip install asyncio\n",
    "```\n",
    "\n"
   ]
  },
  {
   "cell_type": "markdown",
   "metadata": {},
   "source": [
    "\n",
    "## Lets get started!"
   ]
  },
  {
   "cell_type": "code",
   "execution_count": 12,
   "metadata": {},
   "outputs": [],
   "source": [
    "from telethon import TelegramClient\n",
    "import pandas as pd\n",
    "import json \n",
    "from pathlib import Path\n",
    "import json\n",
    "import os\n",
    "\n",
    "from config import Config # import the api id, hash from here \n"
   ]
  },
  {
   "cell_type": "code",
   "execution_count": 13,
   "metadata": {},
   "outputs": [],
   "source": [
    "# You can test the code by inputing your cridentials and uncommenting\n",
    "# Ideally dont hardcode it here\n",
    "# api_id = Config.api_id\n",
    "# api_hash = Config.api_hash\n"
   ]
  },
  {
   "cell_type": "markdown",
   "metadata": {},
   "source": [
    "## Some notes on concurrent programming & asyncio: \n",
    "\n",
    "### What does asyncronous mean?\n",
    "The usual program in Python excutes code sequentially/synchronously --i.e.-- tasks/unit of work must complete before moving forward in the program. For example, a function must execute and provide a result before you can move on to your next task in the program. \n",
    "\n",
    "This is not required in asyncronous programming. Asynchronous programming is a type of parallel programming where you do not need to wait for a unit of work to complete before proceeding. For example, you can submit a HTTP request and while waiting for the HTTP request to finish/return a response, you can do other work that’s waiting in a queue. \n",
    "\n",
    "*Note:* This is not multithreading. Instead, we have have a single thread and we are switching between tasks to utilize time more efficiently and not waste time waiting for tasks to complete  before proceeding. \n",
    "\n",
    "### Buikding blocks to do this:\n",
    "### Coroutines?\n",
    "This is a fuction which can pause and resume its execution at any stage.\n",
    "To make such functions:\n",
    "1. Simply put the *async* keyword at the beginning of your function \n",
    "```\n",
    "async def my_coroutine():\n",
    "    do something\n",
    "    return\n",
    "```\n",
    "2. When you call such a function/coroutine, it will return a *coroutine object*. Unlike a normal function, this function has not been \"executed\".... yet.\n",
    "3. These coroutine objects *will* be executed using other means (an *event loop*, explained below).\n",
    "\n",
    "### Await keyword?\n",
    "This keyword is used to pause the execution of a coroutine. We simply add the keyword *await*  in front of the object you want to await. When the function encounters *await* --> function will stop there --> *awaitable object* will start running --> once the *awaitable object* completes --> then the remaining coroutine will proceed. \n",
    "\n",
    "```\n",
    "async def my_coroutine():\n",
    "    do something\n",
    "    await something # wait for this task to complete\n",
    "    do something else # proceed with the function\n",
    "    return\n",
    "```\n",
    "\n",
    "When there are more than one coroutines, awaitable objects provide *context switching* ability or an \"exit gate\" through which we can switch between multiple coroutines. It allows you to run another coroutine during the period of delay created by await.\n",
    "\n",
    "Awaitable objects can be coroutines, Tasks, Futures. *Tasks* allow you to schedule coroutines. You can convert a coroutine into a task (asyncio.create_task()) and schedule it to run concurrently. *Futures* allows represents a future result of an asynchronous operation.  \n",
    "\n",
    "### Executing coroutines\n",
    "We need an *event loop* which executes all the tasks which are passed to it. Generally runs in the main thread.\n",
    "\n",
    "```\n",
    "asyncio.run(my_coroutine())\n",
    "```\n",
    "Interpreters like Jupyter run the asyncio event loop implicitly, which is why we dont create it it below. All async functions must be scheduled for execution on the event loop instead of attempting to create a new loop in the same thread. Again, the way Jupyter runs creates slight differences in the way code is written in a script (.py files).\n",
    "\n"
   ]
  },
  {
   "cell_type": "code",
   "execution_count": null,
   "metadata": {},
   "outputs": [],
   "source": []
  },
  {
   "cell_type": "code",
   "execution_count": 14,
   "metadata": {},
   "outputs": [],
   "source": [
    "# Get API credentials from the Config.py file \n",
    "api_id = Config.api_id\n",
    "api_hash = Config.api_hash\n",
    "\n",
    "# This is the name of the session file that will be created and stored in the working directory \n",
    "# Session files are used to store the state of the client, so it can be resumed later\n",
    "# So you dont have to login everytime you run the code\n",
    "\n",
    "session_name = Config.session_name  \n"
   ]
  },
  {
   "cell_type": "code",
   "execution_count": 15,
   "metadata": {},
   "outputs": [],
   "source": [
    "# Make a coroutine main()\n",
    "# This function/coroutine takes in \n",
    "#  1. the name of the chat we want to collect \n",
    "#  2. the number of messages to collect \n",
    "# There are many other arguments you can pass (https://docs.telethon.dev/en/stable/modules/client.html?\n",
    "\n",
    "async def main(chat_name, limit):\n",
    "    # \"async with\" creates asynchronous context managers\n",
    "    # It is an extension of the “with” expression for use only in coroutines within asyncio programs\n",
    "    async with TelegramClient(session_name, api_id, api_hash) as client:\n",
    "        \n",
    "        # Get chat info \n",
    "        chat_info = await client.get_entity(chat_name)\n",
    "        \n",
    "        # Get all the messages, given the limit\n",
    "        # It will return the latest 5 messages if limit is 5\n",
    "        messages = await client.get_messages(entity=chat_info, limit=limit)\n",
    "        \n",
    "        # return the results in a dictionary\n",
    "        return ({\"messages\": messages, \"channel\": chat_info})\n",
    "\n",
    "    "
   ]
  },
  {
   "cell_type": "code",
   "execution_count": 16,
   "metadata": {},
   "outputs": [],
   "source": [
    "# limit=None will collect all the messages from nytimes Telegram channel (https://t.me/nytimes)\n",
    "# This will open an input box and ask you to input your phone number \n",
    "# and a code sent on the Telegram app the 1st time \n",
    "chat_input = \"nytimes\"\n",
    "results = await main(chat_name = chat_input, limit=None)"
   ]
  },
  {
   "cell_type": "code",
   "execution_count": 17,
   "metadata": {},
   "outputs": [
    {
     "data": {
      "text/plain": [
       "dict_keys(['messages', 'channel'])"
      ]
     },
     "execution_count": 17,
     "metadata": {},
     "output_type": "execute_result"
    }
   ],
   "source": [
    "# returns a dictionary with results \n",
    "results.keys()"
   ]
  },
  {
   "cell_type": "code",
   "execution_count": 18,
   "metadata": {},
   "outputs": [
    {
     "data": {
      "text/plain": [
       "{'_': 'Channel',\n",
       " 'id': 1606432449,\n",
       " 'title': 'The New York Times',\n",
       " 'photo': {'_': 'ChatPhoto',\n",
       "  'photo_id': 4996942669779413476,\n",
       "  'dc_id': 1,\n",
       "  'has_video': False,\n",
       "  'stripped_thumb': b'\\x01\\x08\\x08\\xce>O\\xd8\\x866\\xf9\\xb9\\xe7\\xaeh\\xa2\\x8a\\x00'},\n",
       " 'date': datetime.datetime(2022, 3, 9, 19, 25, 13, tzinfo=datetime.timezone.utc),\n",
       " 'version': 0,\n",
       " 'creator': False,\n",
       " 'left': True,\n",
       " 'broadcast': True,\n",
       " 'verified': True,\n",
       " 'megagroup': False,\n",
       " 'restricted': False,\n",
       " 'signatures': False,\n",
       " 'min': False,\n",
       " 'scam': False,\n",
       " 'has_link': False,\n",
       " 'has_geo': False,\n",
       " 'slowmode_enabled': False,\n",
       " 'call_active': False,\n",
       " 'call_not_empty': False,\n",
       " 'fake': False,\n",
       " 'gigagroup': False,\n",
       " 'access_hash': -1839593494233108316,\n",
       " 'username': 'nytimes',\n",
       " 'restriction_reason': [],\n",
       " 'admin_rights': None,\n",
       " 'banned_rights': None,\n",
       " 'default_banned_rights': None,\n",
       " 'participants_count': None}"
      ]
     },
     "execution_count": 18,
     "metadata": {},
     "output_type": "execute_result"
    }
   ],
   "source": [
    "# Channel information \n",
    "results[\"channel\"].to_dict()\n",
    "\n",
    "# We can see for example, \n",
    "# 1. Its a channel\n",
    "# 2. The title is The New York Times\n",
    "# 3. The channel its verified"
   ]
  },
  {
   "cell_type": "code",
   "execution_count": 21,
   "metadata": {},
   "outputs": [
    {
     "data": {
      "text/plain": [
       "2153"
      ]
     },
     "execution_count": 21,
     "metadata": {},
     "output_type": "execute_result"
    }
   ],
   "source": [
    "# A list of 2153 message objects are returned \n",
    "len(results[\"messages\"])"
   ]
  },
  {
   "cell_type": "code",
   "execution_count": 22,
   "metadata": {},
   "outputs": [
    {
     "data": {
      "text/plain": [
       "[<telethon.tl.patched.Message at 0x1102a3370>,\n",
       " <telethon.tl.patched.Message at 0x1102a3e80>,\n",
       " <telethon.tl.patched.Message at 0x1102ef1c0>,\n",
       " <telethon.tl.patched.Message at 0x1102ef5e0>,\n",
       " <telethon.tl.patched.Message at 0x1102efa60>,\n",
       " <telethon.tl.patched.Message at 0x1102efdc0>,\n",
       " <telethon.tl.patched.Message at 0x1102f2160>,\n",
       " <telethon.tl.patched.Message at 0x1102f2610>,\n",
       " <telethon.tl.patched.Message at 0x1102f2dc0>,\n",
       " <telethon.tl.patched.Message at 0x1102f43d0>]"
      ]
     },
     "execution_count": 22,
     "metadata": {},
     "output_type": "execute_result"
    }
   ],
   "source": [
    "results[\"messages\"][:10]"
   ]
  },
  {
   "cell_type": "code",
   "execution_count": 112,
   "metadata": {},
   "outputs": [
    {
     "data": {
      "text/plain": [
       "{'_': 'Message',\n",
       " 'id': 2204,\n",
       " 'peer_id': {'_': 'PeerChannel', 'channel_id': 1606432449},\n",
       " 'date': datetime.datetime(2023, 2, 24, 11, 9, 34, tzinfo=datetime.timezone.utc),\n",
       " 'message': 'Our Photographers in Ukraine on the Images They Can’t Forget\\n\\nIn a year of war in Ukraine, New York Times photographers have reported from the front line, from cities and villages and in the footsteps of refugees.\\n\\nSee the photos that stayed with them. Read more\\n\\n@nytimes',\n",
       " 'out': False,\n",
       " 'mentioned': False,\n",
       " 'media_unread': False,\n",
       " 'silent': False,\n",
       " 'post': True,\n",
       " 'from_scheduled': False,\n",
       " 'legacy': True,\n",
       " 'edit_hide': True,\n",
       " 'pinned': False,\n",
       " 'from_id': None,\n",
       " 'fwd_from': None,\n",
       " 'via_bot_id': None,\n",
       " 'reply_to': None,\n",
       " 'media': {'_': 'MessageMediaPhoto',\n",
       "  'photo': {'_': 'Photo',\n",
       "   'id': 6038524367077486471,\n",
       "   'access_hash': -94465430780570884,\n",
       "   'file_reference': b'\\x02_\\xc06\\xc1\\x00\\x00\\x08\\x9cc\\xf8\\xca_\\xea\\xa3/\\x16\\xa0\\xe5qt\\x03\\x16^\\x93c\\x93\\x0e\\x0b',\n",
       "   'date': datetime.datetime(2023, 2, 24, 9, 4, 2, tzinfo=datetime.timezone.utc),\n",
       "   'sizes': [{'_': 'PhotoStrippedSize',\n",
       "     'type': 'i',\n",
       "     'bytes': b'\\x01\\x15(\\x80K\\xbe2\\xbdO\\xad\\x0bpc\\xca\\x8e@\\xe8}j\\xb6\\xf0N\\xe6\\xc8S\\xd8S\\xce$L\\xaex\\xe8(\\x1d\\x89\\xe4\\x95\\xb7\\xa3\\xf7ZD\\x95pq\\xd4\\x9c\\xe2\\x98\\xc0\\xee\\xe3\\xa5H_<l\\xc1\\xf7\\x14\\x01E\\xdf \\xe4\\xf2Nh\\xa7F\\x01$0\\xefE1\\x12\\xf9JA\\xcf\\xe9N\\x88c*\\x0f\\n?\\xfa\\xf4QR2##\\x1d\\x87<\\x8e*Ts#\\x02x\\xc5\\x14S\\x10\\xf9\\x14eI\\xe7=h\\xa2\\x8a\\x00'},\n",
       "    {'_': 'PhotoSize', 'type': 'm', 'w': 320, 'h': 168, 'size': 20120},\n",
       "    {'_': 'PhotoSize', 'type': 'x', 'w': 800, 'h': 419, 'size': 107319},\n",
       "    {'_': 'PhotoSizeProgressive',\n",
       "     'type': 'y',\n",
       "     'w': 1050,\n",
       "     'h': 550,\n",
       "     'sizes': [13114, 34989, 63532, 94302, 155561]}],\n",
       "   'dc_id': 4,\n",
       "   'has_stickers': False,\n",
       "   'video_sizes': []},\n",
       "  'ttl_seconds': None},\n",
       " 'reply_markup': None,\n",
       " 'entities': [{'_': 'MessageEntityTextUrl',\n",
       "   'offset': 0,\n",
       "   'length': 60,\n",
       "   'url': 'https://nyti.ms/3ZgXDLd'},\n",
       "  {'_': 'MessageEntityBold', 'offset': 0, 'length': 60},\n",
       "  {'_': 'MessageEntityTextUrl',\n",
       "   'offset': 253,\n",
       "   'length': 9,\n",
       "   'url': 'https://nyti.ms/3ZgXDLd'},\n",
       "  {'_': 'MessageEntityBold', 'offset': 253, 'length': 9},\n",
       "  {'_': 'MessageEntityMention', 'offset': 264, 'length': 8}],\n",
       " 'views': 6773,\n",
       " 'forwards': 16,\n",
       " 'replies': None,\n",
       " 'edit_date': datetime.datetime(2023, 2, 24, 11, 9, 53, tzinfo=datetime.timezone.utc),\n",
       " 'post_author': None,\n",
       " 'grouped_id': 13417895798072433,\n",
       " 'restriction_reason': [],\n",
       " 'ttl_period': None}"
      ]
     },
     "execution_count": 112,
     "metadata": {},
     "output_type": "execute_result"
    }
   ],
   "source": [
    "# Convert the object to dictionary and look at what it returns\n",
    "# Lets look at one of the messages\n",
    "# It returns a lot of fields \n",
    "# like the message id, the date when the message was posted, message text, the associated media etc. \n",
    "\n",
    "results[\"messages\"][7].to_dict()"
   ]
  },
  {
   "cell_type": "code",
   "execution_count": 37,
   "metadata": {},
   "outputs": [
    {
     "data": {
      "text/plain": [
       "'[**Our Photographers in Ukraine on the Images They Can’t Forget](https://nyti.ms/3ZgXDLd)**\\n\\nIn a year of war in Ukraine, New York Times photographers have reported from the front line, from cities and villages and in the footsteps of refugees.\\n\\nSee the photos that stayed with them. [**Read more](https://nyti.ms/3ZgXDLd)**\\n\\n@nytimes'"
      ]
     },
     "execution_count": 37,
     "metadata": {},
     "output_type": "execute_result"
    }
   ],
   "source": [
    "# Lets get the text \n",
    "results[\"messages\"][7].text"
   ]
  },
  {
   "cell_type": "code",
   "execution_count": 38,
   "metadata": {},
   "outputs": [],
   "source": [
    "# Convert all objects to dictionary \n",
    "msg_list = [msg.to_dict() for msg in results[\"messages\"]]\n"
   ]
  },
  {
   "cell_type": "code",
   "execution_count": 39,
   "metadata": {},
   "outputs": [],
   "source": [
    "# Save the results in a json file\n",
    "Path(os.path.join(\"json_data\")).mkdir(parents=True, exist_ok=True)\n",
    "out_path = os.path.join(Config.output_dir, f\"{chat_input}.json\")\n",
    "with open(out_path, \"w\") as f:\n",
    "        json.dump(msg_list, f, default=str, ensure_ascii=False)\n"
   ]
  },
  {
   "cell_type": "code",
   "execution_count": 40,
   "metadata": {},
   "outputs": [
    {
     "name": "stdout",
     "output_type": "stream",
     "text": [
      "json_data/nytimes.json\n"
     ]
    }
   ],
   "source": [
    "# Read in json file and convert it to a pandas data frame \n",
    "out_path = os.path.join(Config.output_dir, f\"{chat_input}.json\")\n",
    "print(out_path)\n",
    "nytimes_df = pd.read_json(\"json_data/nytimes.json\")"
   ]
  },
  {
   "cell_type": "code",
   "execution_count": 41,
   "metadata": {},
   "outputs": [
    {
     "data": {
      "text/html": [
       "<div>\n",
       "<style scoped>\n",
       "    .dataframe tbody tr th:only-of-type {\n",
       "        vertical-align: middle;\n",
       "    }\n",
       "\n",
       "    .dataframe tbody tr th {\n",
       "        vertical-align: top;\n",
       "    }\n",
       "\n",
       "    .dataframe thead th {\n",
       "        text-align: right;\n",
       "    }\n",
       "</style>\n",
       "<table border=\"1\" class=\"dataframe\">\n",
       "  <thead>\n",
       "    <tr style=\"text-align: right;\">\n",
       "      <th></th>\n",
       "      <th>_</th>\n",
       "      <th>id</th>\n",
       "      <th>peer_id</th>\n",
       "      <th>date</th>\n",
       "      <th>message</th>\n",
       "      <th>out</th>\n",
       "      <th>mentioned</th>\n",
       "      <th>media_unread</th>\n",
       "      <th>silent</th>\n",
       "      <th>post</th>\n",
       "      <th>...</th>\n",
       "      <th>entities</th>\n",
       "      <th>views</th>\n",
       "      <th>forwards</th>\n",
       "      <th>replies</th>\n",
       "      <th>edit_date</th>\n",
       "      <th>post_author</th>\n",
       "      <th>grouped_id</th>\n",
       "      <th>restriction_reason</th>\n",
       "      <th>ttl_period</th>\n",
       "      <th>action</th>\n",
       "    </tr>\n",
       "  </thead>\n",
       "  <tbody>\n",
       "    <tr>\n",
       "      <th>0</th>\n",
       "      <td>Message</td>\n",
       "      <td>2211</td>\n",
       "      <td>{'_': 'PeerChannel', 'channel_id': 1606432449}</td>\n",
       "      <td>2023-02-24 14:16:02+00:00</td>\n",
       "      <td></td>\n",
       "      <td>False</td>\n",
       "      <td>False</td>\n",
       "      <td>False</td>\n",
       "      <td>False</td>\n",
       "      <td>True</td>\n",
       "      <td>...</td>\n",
       "      <td>[]</td>\n",
       "      <td>1942.0</td>\n",
       "      <td>13.0</td>\n",
       "      <td>NaN</td>\n",
       "      <td>None</td>\n",
       "      <td>NaN</td>\n",
       "      <td>1.341799e+16</td>\n",
       "      <td>[]</td>\n",
       "      <td>NaN</td>\n",
       "      <td>NaN</td>\n",
       "    </tr>\n",
       "    <tr>\n",
       "      <th>1</th>\n",
       "      <td>Message</td>\n",
       "      <td>2210</td>\n",
       "      <td>{'_': 'PeerChannel', 'channel_id': 1606432449}</td>\n",
       "      <td>2023-02-24 14:16:02+00:00</td>\n",
       "      <td></td>\n",
       "      <td>False</td>\n",
       "      <td>False</td>\n",
       "      <td>False</td>\n",
       "      <td>False</td>\n",
       "      <td>True</td>\n",
       "      <td>...</td>\n",
       "      <td>[]</td>\n",
       "      <td>1936.0</td>\n",
       "      <td>13.0</td>\n",
       "      <td>NaN</td>\n",
       "      <td>None</td>\n",
       "      <td>NaN</td>\n",
       "      <td>1.341799e+16</td>\n",
       "      <td>[]</td>\n",
       "      <td>NaN</td>\n",
       "      <td>NaN</td>\n",
       "    </tr>\n",
       "    <tr>\n",
       "      <th>2</th>\n",
       "      <td>Message</td>\n",
       "      <td>2209</td>\n",
       "      <td>{'_': 'PeerChannel', 'channel_id': 1606432449}</td>\n",
       "      <td>2023-02-24 14:16:01+00:00</td>\n",
       "      <td></td>\n",
       "      <td>False</td>\n",
       "      <td>False</td>\n",
       "      <td>False</td>\n",
       "      <td>False</td>\n",
       "      <td>True</td>\n",
       "      <td>...</td>\n",
       "      <td>[]</td>\n",
       "      <td>1938.0</td>\n",
       "      <td>13.0</td>\n",
       "      <td>NaN</td>\n",
       "      <td>None</td>\n",
       "      <td>NaN</td>\n",
       "      <td>1.341799e+16</td>\n",
       "      <td>[]</td>\n",
       "      <td>NaN</td>\n",
       "      <td>NaN</td>\n",
       "    </tr>\n",
       "    <tr>\n",
       "      <th>3</th>\n",
       "      <td>Message</td>\n",
       "      <td>2208</td>\n",
       "      <td>{'_': 'PeerChannel', 'channel_id': 1606432449}</td>\n",
       "      <td>2023-02-24 14:16:01+00:00</td>\n",
       "      <td>Fear, Anger, Love: See Ukrainians’ Texts From ...</td>\n",
       "      <td>False</td>\n",
       "      <td>False</td>\n",
       "      <td>False</td>\n",
       "      <td>False</td>\n",
       "      <td>True</td>\n",
       "      <td>...</td>\n",
       "      <td>[{'_': 'MessageEntityTextUrl', 'offset': 0, 'l...</td>\n",
       "      <td>1950.0</td>\n",
       "      <td>13.0</td>\n",
       "      <td>NaN</td>\n",
       "      <td>2023-02-24 14:16:45+00:00</td>\n",
       "      <td>NaN</td>\n",
       "      <td>1.341799e+16</td>\n",
       "      <td>[]</td>\n",
       "      <td>NaN</td>\n",
       "      <td>NaN</td>\n",
       "    </tr>\n",
       "    <tr>\n",
       "      <th>4</th>\n",
       "      <td>Message</td>\n",
       "      <td>2207</td>\n",
       "      <td>{'_': 'PeerChannel', 'channel_id': 1606432449}</td>\n",
       "      <td>2023-02-24 11:09:36+00:00</td>\n",
       "      <td></td>\n",
       "      <td>False</td>\n",
       "      <td>False</td>\n",
       "      <td>False</td>\n",
       "      <td>False</td>\n",
       "      <td>True</td>\n",
       "      <td>...</td>\n",
       "      <td>[]</td>\n",
       "      <td>6896.0</td>\n",
       "      <td>16.0</td>\n",
       "      <td>NaN</td>\n",
       "      <td>None</td>\n",
       "      <td>NaN</td>\n",
       "      <td>1.341790e+16</td>\n",
       "      <td>[]</td>\n",
       "      <td>NaN</td>\n",
       "      <td>NaN</td>\n",
       "    </tr>\n",
       "  </tbody>\n",
       "</table>\n",
       "<p>5 rows × 30 columns</p>\n",
       "</div>"
      ],
      "text/plain": [
       "         _    id                                         peer_id  \\\n",
       "0  Message  2211  {'_': 'PeerChannel', 'channel_id': 1606432449}   \n",
       "1  Message  2210  {'_': 'PeerChannel', 'channel_id': 1606432449}   \n",
       "2  Message  2209  {'_': 'PeerChannel', 'channel_id': 1606432449}   \n",
       "3  Message  2208  {'_': 'PeerChannel', 'channel_id': 1606432449}   \n",
       "4  Message  2207  {'_': 'PeerChannel', 'channel_id': 1606432449}   \n",
       "\n",
       "                       date  \\\n",
       "0 2023-02-24 14:16:02+00:00   \n",
       "1 2023-02-24 14:16:02+00:00   \n",
       "2 2023-02-24 14:16:01+00:00   \n",
       "3 2023-02-24 14:16:01+00:00   \n",
       "4 2023-02-24 11:09:36+00:00   \n",
       "\n",
       "                                             message    out  mentioned  \\\n",
       "0                                                     False      False   \n",
       "1                                                     False      False   \n",
       "2                                                     False      False   \n",
       "3  Fear, Anger, Love: See Ukrainians’ Texts From ...  False      False   \n",
       "4                                                     False      False   \n",
       "\n",
       "   media_unread  silent  post  ...  \\\n",
       "0         False   False  True  ...   \n",
       "1         False   False  True  ...   \n",
       "2         False   False  True  ...   \n",
       "3         False   False  True  ...   \n",
       "4         False   False  True  ...   \n",
       "\n",
       "                                            entities   views  forwards  \\\n",
       "0                                                 []  1942.0      13.0   \n",
       "1                                                 []  1936.0      13.0   \n",
       "2                                                 []  1938.0      13.0   \n",
       "3  [{'_': 'MessageEntityTextUrl', 'offset': 0, 'l...  1950.0      13.0   \n",
       "4                                                 []  6896.0      16.0   \n",
       "\n",
       "   replies                  edit_date  post_author    grouped_id  \\\n",
       "0      NaN                       None          NaN  1.341799e+16   \n",
       "1      NaN                       None          NaN  1.341799e+16   \n",
       "2      NaN                       None          NaN  1.341799e+16   \n",
       "3      NaN  2023-02-24 14:16:45+00:00          NaN  1.341799e+16   \n",
       "4      NaN                       None          NaN  1.341790e+16   \n",
       "\n",
       "  restriction_reason ttl_period  action  \n",
       "0                 []        NaN     NaN  \n",
       "1                 []        NaN     NaN  \n",
       "2                 []        NaN     NaN  \n",
       "3                 []        NaN     NaN  \n",
       "4                 []        NaN     NaN  \n",
       "\n",
       "[5 rows x 30 columns]"
      ]
     },
     "execution_count": 41,
     "metadata": {},
     "output_type": "execute_result"
    }
   ],
   "source": [
    "nytimes_df.head()"
   ]
  },
  {
   "cell_type": "code",
   "execution_count": 42,
   "metadata": {},
   "outputs": [],
   "source": [
    "# Make date \n",
    "nytimes_df[\"just_date\"] = pd.to_datetime(nytimes_df.date).dt.date"
   ]
  },
  {
   "cell_type": "code",
   "execution_count": 43,
   "metadata": {},
   "outputs": [
    {
     "data": {
      "text/plain": [
       "'2022-03-09 - 2023-02-24'"
      ]
     },
     "execution_count": 43,
     "metadata": {},
     "output_type": "execute_result"
    }
   ],
   "source": [
    "# date range\n",
    "f\"{nytimes_df.just_date.min()} - {nytimes_df.just_date.max()}\"\n",
    "\n",
    "# The first message was posted on 2022-03-09"
   ]
  },
  {
   "cell_type": "code",
   "execution_count": 44,
   "metadata": {},
   "outputs": [
    {
     "data": {
      "text/html": [
       "<div>\n",
       "<style scoped>\n",
       "    .dataframe tbody tr th:only-of-type {\n",
       "        vertical-align: middle;\n",
       "    }\n",
       "\n",
       "    .dataframe tbody tr th {\n",
       "        vertical-align: top;\n",
       "    }\n",
       "\n",
       "    .dataframe thead th {\n",
       "        text-align: right;\n",
       "    }\n",
       "</style>\n",
       "<table border=\"1\" class=\"dataframe\">\n",
       "  <thead>\n",
       "    <tr style=\"text-align: right;\">\n",
       "      <th></th>\n",
       "      <th>just_date</th>\n",
       "      <th>freq</th>\n",
       "    </tr>\n",
       "  </thead>\n",
       "  <tbody>\n",
       "    <tr>\n",
       "      <th>0</th>\n",
       "      <td>2022-03-09</td>\n",
       "      <td>1</td>\n",
       "    </tr>\n",
       "    <tr>\n",
       "      <th>1</th>\n",
       "      <td>2022-03-11</td>\n",
       "      <td>2</td>\n",
       "    </tr>\n",
       "    <tr>\n",
       "      <th>2</th>\n",
       "      <td>2022-03-12</td>\n",
       "      <td>5</td>\n",
       "    </tr>\n",
       "    <tr>\n",
       "      <th>3</th>\n",
       "      <td>2022-03-13</td>\n",
       "      <td>6</td>\n",
       "    </tr>\n",
       "    <tr>\n",
       "      <th>4</th>\n",
       "      <td>2022-03-14</td>\n",
       "      <td>10</td>\n",
       "    </tr>\n",
       "  </tbody>\n",
       "</table>\n",
       "</div>"
      ],
      "text/plain": [
       "    just_date  freq\n",
       "0  2022-03-09     1\n",
       "1  2022-03-11     2\n",
       "2  2022-03-12     5\n",
       "3  2022-03-13     6\n",
       "4  2022-03-14    10"
      ]
     },
     "execution_count": 44,
     "metadata": {},
     "output_type": "execute_result"
    }
   ],
   "source": [
    "# Daily frequency of messages \n",
    "daily_count = nytimes_df.groupby(\"just_date\").size().reset_index(name=\"freq\")\n",
    "daily_count.head()"
   ]
  },
  {
   "cell_type": "code",
   "execution_count": null,
   "metadata": {},
   "outputs": [],
   "source": [
    "import matplotlib.pyplot as plt\n",
    "plt.figure()\n",
    "plt.rcParams.update({'font.size': 20}) # Increases font size in all plots"
   ]
  },
  {
   "cell_type": "code",
   "execution_count": 64,
   "metadata": {},
   "outputs": [
    {
     "data": {
      "text/plain": [
       "<AxesSubplot:xlabel='Date'>"
      ]
     },
     "execution_count": 64,
     "metadata": {},
     "output_type": "execute_result"
    },
    {
     "data": {
      "image/png": "[encoded data removed]",
      "text/plain": [
       "<Figure size 1080x720 with 1 Axes>"
      ]
     },
     "metadata": {
      "needs_background": "light"
     },
     "output_type": "display_data"
    }
   ],
   "source": [
    "# plot Freq of messages \n",
    "daily_count.plot(x=\"just_date\", y=\"freq\", xlabel=\"Date\", figsize= (15, 10))"
   ]
  },
  {
   "cell_type": "code",
   "execution_count": 46,
   "metadata": {},
   "outputs": [
    {
     "data": {
      "text/plain": [
       "6.276967930029154"
      ]
     },
     "execution_count": 46,
     "metadata": {},
     "output_type": "execute_result"
    }
   ],
   "source": [
    "daily_count.freq.mean() "
   ]
  },
  {
   "cell_type": "markdown",
   "metadata": {},
   "source": [
    "NYT posted ~6 messages daily, on average since the last year.\n"
   ]
  },
  {
   "cell_type": "code",
   "execution_count": 51,
   "metadata": {},
   "outputs": [
    {
     "data": {
      "text/plain": [
       "False    2147\n",
       "True        6\n",
       "Name: media, dtype: int64"
      ]
     },
     "execution_count": 51,
     "metadata": {},
     "output_type": "execute_result"
    }
   ],
   "source": [
    "# Almost all of the messages have associated media \n",
    "nytimes_df.media.isna().value_counts()"
   ]
  },
  {
   "cell_type": "code",
   "execution_count": 57,
   "metadata": {},
   "outputs": [],
   "source": [
    "# Lets see what media is shared \n",
    "import re\n",
    "nytimes_df[\"media_type\"] = nytimes_df.media.apply(lambda a: re.sub(\"MessageMedia\", \"\", a[\"_\"]) if pd.notnull(a) else a)"
   ]
  },
  {
   "cell_type": "code",
   "execution_count": 66,
   "metadata": {},
   "outputs": [
    {
     "data": {
      "text/plain": [
       "<AxesSubplot:xlabel='Media Type', ylabel='Prop of messages'>"
      ]
     },
     "execution_count": 66,
     "metadata": {},
     "output_type": "execute_result"
    },
    {
     "data": {
      "image/png": "[encoded data removed]",
      "text/plain": [
       "<Figure size 864x360 with 1 Axes>"
      ]
     },
     "metadata": {
      "needs_background": "light"
     },
     "output_type": "display_data"
    }
   ],
   "source": [
    "# Create a plot \n",
    "nytimes_df[\"media_type\"].value_counts(normalize=True, dropna=False).plot(\n",
    "    kind=\"bar\", \n",
    "    ylabel=\"Prop of messages\",\n",
    "    xlabel = \"Media Type\",\n",
    "    figsize=(12,5))\n",
    "\n",
    "\n"
   ]
  },
  {
   "cell_type": "markdown",
   "metadata": {},
   "source": [
    "Almost all of the messages have associated media, mostly photos."
   ]
  },
  {
   "cell_type": "code",
   "execution_count": 87,
   "metadata": {},
   "outputs": [
    {
     "data": {
      "text/plain": [
       "<matplotlib.lines.Line2D at 0x13dd7c970>"
      ]
     },
     "execution_count": 87,
     "metadata": {},
     "output_type": "execute_result"
    },
    {
     "data": {
      "image/png": "[encoded data removed]",
      "text/plain": [
       "<Figure size 864x576 with 1 Axes>"
      ]
     },
     "metadata": {
      "needs_background": "light"
     },
     "output_type": "display_data"
    }
   ],
   "source": [
    "# How long are the messages?\n",
    "num_words = nytimes_df.message.str.split().str.len()\n",
    "num_words = num_words[num_words>0]\n",
    "\n",
    "num_words.hist(bins=50, figsize=(12,8))\n",
    "plt.axvline(x=num_words.median(), color=\"red\")\n",
    "\n",
    "# Most are upto 200 words long, with a median of ~80\n"
   ]
  },
  {
   "cell_type": "code",
   "execution_count": 107,
   "metadata": {},
   "outputs": [],
   "source": [
    "# What are they posting about?\n",
    "from sklearn.feature_extraction.text import TfidfVectorizer\n",
    "import nltk\n",
    "from nltk.corpus import stopwords\n",
    "STOP = stopwords.words('english')"
   ]
  },
  {
   "cell_type": "code",
   "execution_count": 100,
   "metadata": {},
   "outputs": [
    {
     "data": {
      "text/plain": [
       "3       Fear, Anger, Love: See Ukrainians’ Texts From ...\n",
       "7       Our Photographers in Ukraine on the Images The...\n",
       "8       The West Tried to Isolate Russia. It Didn’t Wo...\n",
       "9       The U.N. General Assembly votes 141 to 7, with...\n",
       "10      Prigozhin’s Feud With Russia’s Military Leaves...\n",
       "                              ...                        \n",
       "2146    Street battles hit a Kyiv suburb, some of the ...\n",
       "2147    U.S. Officials Say Superyacht Could be Putin’s...\n",
       "2148    After a night of shelling, Ukrainians assess t...\n",
       "2150    The low rumble of heavy artillery fire echoed ...\n",
       "2151    Welcome to the Telegram channel from The New Y...\n",
       "Name: message, Length: 1490, dtype: object"
      ]
     },
     "execution_count": 100,
     "metadata": {},
     "output_type": "execute_result"
    }
   ],
   "source": [
    "text = nytimes_df[\"message\"].dropna()\n",
    "text = text[text.str.len()>0]\n",
    "text"
   ]
  },
  {
   "cell_type": "code",
   "execution_count": 109,
   "metadata": {},
   "outputs": [],
   "source": [
    "# Get Tf-idf\n",
    "vectorizer = TfidfVectorizer(stop_words=STOP) # remove stop words \n",
    "dtm=vectorizer.fit_transform(text)"
   ]
  },
  {
   "cell_type": "code",
   "execution_count": 110,
   "metadata": {},
   "outputs": [],
   "source": [
    "vocab = vectorizer.get_feature_names()\n",
    "# vectorizer.vocabulary_"
   ]
  },
  {
   "cell_type": "code",
   "execution_count": 111,
   "metadata": {},
   "outputs": [
    {
     "data": {
      "text/plain": [
       "[('ukraine', 70.99374965598217),\n",
       " ('russian', 60.91068005281544),\n",
       " ('russia', 60.3267722703442),\n",
       " ('ukrainian', 47.91682467181459),\n",
       " ('war', 41.971779410499686),\n",
       " ('said', 41.515413286769956),\n",
       " ('nytimes', 39.39641127730646),\n",
       " ('read', 39.12094018386512),\n",
       " ('city', 35.00237435757141),\n",
       " ('forces', 34.074497192425696),\n",
       " ('military', 31.931964324883396),\n",
       " ('putin', 31.503295287122306),\n",
       " ('president', 29.67814562804818),\n",
       " ('officials', 26.64096996670157),\n",
       " ('zelensky', 24.806368087293226),\n",
       " ('kyiv', 24.31848076238217),\n",
       " ('moscow', 24.088453872075334),\n",
       " ('country', 22.60569949567021),\n",
       " ('nuclear', 20.692177594132602),\n",
       " ('new', 20.13754759335653),\n",
       " ('eastern', 19.966650097196126),\n",
       " ('mr', 19.379073515804073),\n",
       " ('people', 19.21581532325555),\n",
       " ('one', 18.344061784065357),\n",
       " ('plant', 17.960637786763918),\n",
       " ('region', 17.87069827026016),\n",
       " ('invasion', 17.798213574656423),\n",
       " ('would', 17.681966632421336),\n",
       " ('kherson', 17.47786878804613),\n",
       " ('tuesday', 17.023810449552673)]"
      ]
     },
     "execution_count": 111,
     "metadata": {},
     "output_type": "execute_result"
    }
   ],
   "source": [
    "# Top 30 words \n",
    "sum_words = dtm.sum(axis=0) # a 1x9211 matrix\n",
    "words_freq = [(word, sum_words[0, idx]) for word, idx in vectorizer.vocabulary_.items()]\n",
    "words_freq = sorted(words_freq, key = lambda x: x[1], reverse=True)\n",
    "\n",
    "words_freq[0:30]"
   ]
  },
  {
   "cell_type": "markdown",
   "metadata": {},
   "source": [
    "The top words are related to the war in Ukrain. This makes sense given that NYT started their Telegram channel in response to the Russian invasion and to specifically provide information to Ukrainians. "
   ]
  },
  {
   "cell_type": "code",
   "execution_count": 131,
   "metadata": {},
   "outputs": [
    {
     "data": {
      "text/plain": [
       "KMeans(n_clusters=10)"
      ]
     },
     "execution_count": 131,
     "metadata": {},
     "output_type": "execute_result"
    }
   ],
   "source": [
    "# What are the different topics discussed?\n",
    "from sklearn.cluster import KMeans\n",
    "K = 10\n",
    "kmeans_10 = KMeans(n_clusters=10)\n",
    "kmeans_10.fit(dtm)\n"
   ]
  },
  {
   "cell_type": "code",
   "execution_count": 132,
   "metadata": {},
   "outputs": [],
   "source": [
    "order_centroids = kmeans_10.cluster_centers_.argsort()[:, ::-1]\n",
    "terms = vectorizer.get_feature_names()"
   ]
  },
  {
   "cell_type": "code",
   "execution_count": 135,
   "metadata": {},
   "outputs": [
    {
     "name": "stdout",
     "output_type": "stream",
     "text": [
      "Cluster 0:\n",
      " mariupol\n",
      " steel\n",
      " plant\n",
      " azovstal\n",
      " civilians\n",
      " city\n",
      " ukrainian\n",
      " said\n",
      " factory\n",
      " forces\n",
      "Cluster 1:\n",
      " strikes\n",
      " missiles\n",
      " ukraine\n",
      " russian\n",
      " ukrainian\n",
      " least\n",
      " missile\n",
      " russia\n",
      " people\n",
      " air\n",
      "Cluster 2:\n",
      " european\n",
      " nato\n",
      " ukraine\n",
      " germany\n",
      " russia\n",
      " gas\n",
      " oil\n",
      " leaders\n",
      " europe\n",
      " tanks\n",
      "Cluster 3:\n",
      " nuclear\n",
      " plant\n",
      " zaporizhzhia\n",
      " power\n",
      " watchdog\n",
      " shelling\n",
      " ukraine\n",
      " agency\n",
      " ukrainian\n",
      " facility\n",
      "Cluster 4:\n",
      " kherson\n",
      " city\n",
      " forces\n",
      " russian\n",
      " southern\n",
      " ukrainian\n",
      " region\n",
      " military\n",
      " ukraine\n",
      " russia\n",
      "Cluster 5:\n",
      " russia\n",
      " ukraine\n",
      " war\n",
      " putin\n",
      " russian\n",
      " nytimes\n",
      " read\n",
      " said\n",
      " ukrainian\n",
      " military\n",
      "Cluster 6:\n",
      " griner\n",
      " brittney\n",
      " star\n",
      " basketball\n",
      " drug\n",
      " court\n",
      " charges\n",
      " american\n",
      " lawyers\n",
      " trial\n",
      "Cluster 7:\n",
      " grain\n",
      " deal\n",
      " food\n",
      " global\n",
      " ports\n",
      " odesa\n",
      " crisis\n",
      " ukraine\n",
      " sea\n",
      " black\n",
      "Cluster 8:\n",
      " forces\n",
      " city\n",
      " ukrainian\n",
      " russian\n",
      " eastern\n",
      " ukraine\n",
      " russia\n",
      " region\n",
      " military\n",
      " donbas\n",
      "Cluster 9:\n",
      " zelensky\n",
      " ukraine\n",
      " president\n",
      " volodymyr\n",
      " biden\n",
      " mr\n",
      " russia\n",
      " said\n",
      " war\n",
      " russian\n"
     ]
    }
   ],
   "source": [
    "for i in range(K):\n",
    "    print(\"Cluster %d:\" % i),\n",
    "    for ind in order_centroids[i, :10]:\n",
    "        print(' %s' % terms[ind]),\n"
   ]
  },
  {
   "cell_type": "markdown",
   "metadata": {},
   "source": [
    "We see topics related to attacks, specific incidents (e.g. cluster 0, 1, 4), likely topics about the international responses (cluster 2),  topic about Brittney Griner (cluster 6), topic about Zelensky (cluster 9)"
   ]
  },
  {
   "cell_type": "code",
   "execution_count": null,
   "metadata": {},
   "outputs": [],
   "source": []
  }
 ],
 "metadata": {
  "kernelspec": {
   "display_name": "Python 3 (ipykernel)",
   "language": "python",
   "name": "python3"
  },
  "language_info": {
   "codemirror_mode": {
    "name": "ipython",
    "version": 3
   },
   "file_extension": ".py",
   "mimetype": "text/x-python",
   "name": "python",
   "nbconvert_exporter": "python",
   "pygments_lexer": "ipython3",
   "version": "3.9.16"
  },
  "vscode": {
   "interpreter": {
    "hash": "278e4c48b1e69ce38ac5e5c4dfb4133f5e49edfc2b0da2d4589614c9f05f6b75"
   }
  }
 },
 "nbformat": 4,
 "nbformat_minor": 2
}
